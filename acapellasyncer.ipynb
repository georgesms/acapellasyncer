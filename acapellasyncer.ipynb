{
 "cells": [
  {
   "cell_type": "code",
   "execution_count": 1,
   "metadata": {},
   "outputs": [],
   "source": [
    "from moviepy.editor import *"
   ]
  },
  {
   "cell_type": "code",
   "execution_count": 2,
   "metadata": {},
   "outputs": [],
   "source": [
    "import numpy as np\n",
    "import matplotlib.pyplot as plt\n",
    "import os\n",
    "from moviepy.video.fx.all import crop\n",
    "import math"
   ]
  },
  {
   "cell_type": "code",
   "execution_count": 3,
   "metadata": {},
   "outputs": [],
   "source": [
    "def moving_average(a, n=3) :\n",
    "    ret = np.cumsum(a, dtype=float)\n",
    "    ret[n:] = ret[n:] - ret[:-n]\n",
    "    return ret[n - 1:] / n"
   ]
  },
  {
   "cell_type": "code",
   "execution_count": null,
   "metadata": {},
   "outputs": [
    {
     "name": "stdout",
     "output_type": "stream",
     "text": [
      "Guerreiro_FULL_FL3_CAROLINACATTAN.mp4\n"
     ]
    },
    {
     "name": "stderr",
     "output_type": "stream",
     "text": [
      "chunk:   0%|          | 2/4861 [00:00<05:57, 13.57it/s, now=None]"
     ]
    },
    {
     "name": "stdout",
     "output_type": "stream",
     "text": [
      "Moviepy - Building video norm_input/Guerreiro_FULL_FL3_CAROLINACATTAN.mp4.\n",
      "MoviePy - Writing audio in Guerreiro_FULL_FL3_CAROLINACATTANTEMP_MPY_wvf_snd.mp3\n"
     ]
    },
    {
     "name": "stderr",
     "output_type": "stream",
     "text": [
      "t:   0%|          | 3/6614 [00:00<03:52, 28.48it/s, now=None]        "
     ]
    },
    {
     "name": "stdout",
     "output_type": "stream",
     "text": [
      "MoviePy - Done.\n",
      "Moviepy - Writing video norm_input/Guerreiro_FULL_FL3_CAROLINACATTAN.mp4\n",
      "\n"
     ]
    },
    {
     "name": "stderr",
     "output_type": "stream",
     "text": [
      "                                                                \r"
     ]
    },
    {
     "name": "stdout",
     "output_type": "stream",
     "text": [
      "Moviepy - Done !\n",
      "Moviepy - video ready norm_input/Guerreiro_FULL_FL3_CAROLINACATTAN.mp4\n",
      "RAQUEL - GUERREIRO.mp4\n"
     ]
    },
    {
     "name": "stderr",
     "output_type": "stream",
     "text": [
      "chunk:   0%|          | 0/4732 [00:00<?, ?it/s, now=None]"
     ]
    },
    {
     "name": "stdout",
     "output_type": "stream",
     "text": [
      "Moviepy - Building video norm_input/RAQUEL - GUERREIRO.mp4.\n",
      "MoviePy - Writing audio in RAQUEL - GUERREIROTEMP_MPY_wvf_snd.mp3\n"
     ]
    },
    {
     "name": "stderr",
     "output_type": "stream",
     "text": [
      "t:   0%|          | 3/12863 [00:00<10:49, 19.80it/s, now=None]       "
     ]
    },
    {
     "name": "stdout",
     "output_type": "stream",
     "text": [
      "MoviePy - Done.\n",
      "Moviepy - Writing video norm_input/RAQUEL - GUERREIRO.mp4\n",
      "\n"
     ]
    },
    {
     "name": "stderr",
     "output_type": "stream",
     "text": [
      "t:  20%|██        | 2633/12863 [02:57<11:25, 14.92it/s, now=None]"
     ]
    }
   ],
   "source": [
    "input_folder_path = \"input/\"\n",
    "norm_folder_path = \"norm_input/\"\n",
    "FPS = 44100\n",
    "\n",
    "for filename in os.listdir(input_folder_path):\n",
    "    print(\".\".join(filename.split(\".\")[:-1]) + \".mp4\")\n",
    "\n",
    "    clip = VideoFileClip(input_folder_path + filename)\n",
    "\n",
    "    clip = clip.fx(afx.audio_normalize)\n",
    "\n",
    "   \n",
    "\n",
    "    soundarray = clip.audio.to_soundarray(fps=FPS)\n",
    "\n",
    "    soundarray_normalized = np.mean(np.abs(soundarray), axis=1)\n",
    "\n",
    "    soundarray_smoothed = moving_average(soundarray_normalized)\n",
    "\n",
    "    peak_found = False\n",
    "    for frame in range(len(soundarray_smoothed)):\n",
    "        if soundarray_smoothed[frame] > 0.15:\n",
    "            break\n",
    "\n",
    "\n",
    "    frame_clap = np.argmax(soundarray_smoothed[frame-500:frame+FPS]) + frame - 500\n",
    "\n",
    "    del(soundarray)\n",
    "    del(soundarray_normalized)\n",
    "    del(soundarray_smoothed)\n",
    "\n",
    "    t_clap = frame_clap / FPS\n",
    "\n",
    "    clip = clip.subclip(cvsecs(t_clap+1), cvsecs(clip.duration))\n",
    "\n",
    "    clip = clip.fx(afx.audio_normalize)\n",
    "\n",
    "    old_width = clip.size[0]\n",
    "    old_height = clip.size[1]\n",
    "    clip_ratio = old_width / old_height\n",
    "    \n",
    "    if clip_ratio < 1.65:\n",
    "        new_height = math.floor(clip2.size[0] / 1.777)\n",
    "        height_to_be_cropped = math.floor(new_height - old_height) / 2\n",
    "        clip = crop(clip,   x1=height_to_be_cropped,\n",
    "                            y1=0,\n",
    "                            x2=height_to_be_cropped+new_height, \n",
    "                            y2=old_width)\n",
    "    \n",
    "    clip = clip.resize( (480,270) )\n",
    "    \n",
    "    clip.write_videofile(norm_folder_path + \".\".join(filename.split(\".\")[:-1]) + \".mp4\")\n",
    "    \n",
    "    del(clip)"
   ]
  },
  {
   "cell_type": "raw",
   "metadata": {},
   "source": [
    "clip.ipython_display(width=400, maxduration=10000)"
   ]
  },
  {
   "cell_type": "code",
   "execution_count": 105,
   "metadata": {},
   "outputs": [
    {
     "data": {
      "text/plain": [
       "(640, 480)"
      ]
     },
     "execution_count": 105,
     "metadata": {},
     "output_type": "execute_result"
    }
   ],
   "source": [
    "clip2.size"
   ]
  },
  {
   "cell_type": "code",
   "execution_count": 97,
   "metadata": {},
   "outputs": [
    {
     "data": {
      "text/plain": [
       "160.0"
      ]
     },
     "execution_count": 97,
     "metadata": {},
     "output_type": "execute_result"
    }
   ],
   "source": [
    "clip2.size[0] / 4"
   ]
  },
  {
   "cell_type": "code",
   "execution_count": 98,
   "metadata": {},
   "outputs": [
    {
     "data": {
      "text/plain": [
       "120.0"
      ]
     },
     "execution_count": 98,
     "metadata": {},
     "output_type": "execute_result"
    }
   ],
   "source": [
    "clip2.size[1] / 4"
   ]
  },
  {
   "cell_type": "code",
   "execution_count": null,
   "metadata": {},
   "outputs": [],
   "source": []
  },
  {
   "cell_type": "code",
   "execution_count": 99,
   "metadata": {},
   "outputs": [
    {
     "data": {
      "text/plain": [
       "1.7777777777777777"
      ]
     },
     "execution_count": 99,
     "metadata": {},
     "output_type": "execute_result"
    }
   ],
   "source": [
    "16 / 9"
   ]
  },
  {
   "cell_type": "code",
   "execution_count": null,
   "metadata": {},
   "outputs": [],
   "source": []
  },
  {
   "cell_type": "code",
   "execution_count": null,
   "metadata": {},
   "outputs": [],
   "source": []
  },
  {
   "cell_type": "code",
   "execution_count": null,
   "metadata": {},
   "outputs": [],
   "source": []
  },
  {
   "cell_type": "code",
   "execution_count": null,
   "metadata": {},
   "outputs": [],
   "source": []
  },
  {
   "cell_type": "code",
   "execution_count": null,
   "metadata": {},
   "outputs": [],
   "source": []
  },
  {
   "cell_type": "code",
   "execution_count": null,
   "metadata": {},
   "outputs": [],
   "source": []
  },
  {
   "cell_type": "code",
   "execution_count": null,
   "metadata": {},
   "outputs": [],
   "source": [
    "if clip_ratio > 1.9"
   ]
  },
  {
   "cell_type": "code",
   "execution_count": 46,
   "metadata": {},
   "outputs": [
    {
     "data": {
      "text/plain": [
       "<matplotlib.lines.Line2D at 0x7fe1b2fa6c18>"
      ]
     },
     "execution_count": 46,
     "metadata": {},
     "output_type": "execute_result"
    },
    {
     "data": {
      "image/png": "[encoded data removed]",
      "text/plain": [
       "<Figure size 432x288 with 1 Axes>"
      ]
     },
     "metadata": {
      "needs_background": "light"
     },
     "output_type": "display_data"
    }
   ],
   "source": [
    "plt.plot(soundarray[:1200000])\n",
    "plt.plot(soundarray_smoothed[:1200000])\n",
    "#plt.plot(bla[100000:114000])\n",
    "plt.axvline(frame_clap, c=\"red\", lw=1, ls=\"--\")"
   ]
  },
  {
   "cell_type": "code",
   "execution_count": 47,
   "metadata": {},
   "outputs": [
    {
     "data": {
      "text/plain": [
       "<matplotlib.lines.Line2D at 0x7fe1b2ed5c50>"
      ]
     },
     "execution_count": 47,
     "metadata": {},
     "output_type": "execute_result"
    },
    {
     "data": {
      "image/png": "[encoded data removed]",
      "text/plain": [
       "<Figure size 432x288 with 1 Axes>"
      ]
     },
     "metadata": {
      "needs_background": "light"
     },
     "output_type": "display_data"
    }
   ],
   "source": [
    "plt.plot(soundarray)\n",
    "plt.plot(soundarray_smoothed)\n",
    "plt.axvline(frame_clap, c=\"red\", lw=1, ls=\"--\")"
   ]
  },
  {
   "cell_type": "code",
   "execution_count": 53,
   "metadata": {},
   "outputs": [
    {
     "data": {
      "text/plain": [
       "<matplotlib.lines.Line2D at 0x7fe1b2e9ccc0>"
      ]
     },
     "execution_count": 53,
     "metadata": {},
     "output_type": "execute_result"
    },
    {
     "data": {
      "image/png": "[encoded data removed]",
      "text/plain": [
       "<Figure size 432x288 with 1 Axes>"
      ]
     },
     "metadata": {
      "needs_background": "light"
     },
     "output_type": "display_data"
    }
   ],
   "source": [
    "plt.plot(soundarray[frame-1500:frame+1500])\n",
    "#plt.plot(blo[t-1500:t+1500])\n",
    "plt.axvline(1500, c=\"red\", lw=1, ls=\"--\")"
   ]
  },
  {
   "cell_type": "code",
   "execution_count": 54,
   "metadata": {},
   "outputs": [],
   "source": [
    "del(soundarray)\n",
    "del(soundarray_normalized)\n",
    "del(soundarray_smoothed)"
   ]
  },
  {
   "cell_type": "code",
   "execution_count": null,
   "metadata": {},
   "outputs": [],
   "source": []
  },
  {
   "cell_type": "code",
   "execution_count": 13,
   "metadata": {},
   "outputs": [],
   "source": [
    "#clip = clip.resize( (10,90) )\n",
    "clip = clip.crop(x_center=300, width=400, y1=100, y2=600)\n",
    "clip = clip.fx(afx.audio_normalize)"
   ]
  },
  {
   "cell_type": "code",
   "execution_count": 14,
   "metadata": {},
   "outputs": [
    {
     "name": "stderr",
     "output_type": "stream",
     "text": [
      "chunk:   0%|          | 2/4944 [00:00<04:52, 16.91it/s, now=None]"
     ]
    },
    {
     "name": "stdout",
     "output_type": "stream",
     "text": [
      "Moviepy - Building video bla3.mp4.\n",
      "MoviePy - Writing audio in bla3TEMP_MPY_wvf_snd.mp3\n"
     ]
    },
    {
     "name": "stderr",
     "output_type": "stream",
     "text": [
      "t:   0%|          | 13/6727 [00:00<00:55, 121.76it/s, now=None]       "
     ]
    },
    {
     "name": "stdout",
     "output_type": "stream",
     "text": [
      "MoviePy - Done.\n",
      "Moviepy - Writing video bla3.mp4\n",
      "\n"
     ]
    },
    {
     "name": "stderr",
     "output_type": "stream",
     "text": [
      "                                                                 "
     ]
    },
    {
     "name": "stdout",
     "output_type": "stream",
     "text": [
      "Moviepy - Done !\n",
      "Moviepy - video ready bla3.mp4\n"
     ]
    },
    {
     "name": "stderr",
     "output_type": "stream",
     "text": [
      "\r"
     ]
    }
   ],
   "source": [
    "clip.write_videofile(\".\".join(filename.split(\".\")[:-1]) + \".mp4\")"
   ]
  },
  {
   "cell_type": "code",
   "execution_count": 84,
   "metadata": {},
   "outputs": [],
   "source": [
    "from moviepy.video.fx.all import crop"
   ]
  },
  {
   "cell_type": "code",
   "execution_count": null,
   "metadata": {},
   "outputs": [],
   "source": [
    "originalClip = (VideoFileClip(filename)\n",
    "    .subclip((1,00.00),(1,03.00)))\n",
    "\n",
    "(w, h) = originalClip.size\n",
    "\n",
    "cropClip = fx.all.crop(clip2, width=h, height=h, x_center=w/2, y_center=h/2)"
   ]
  }
 ],
 "metadata": {
  "kernelspec": {
   "display_name": "Python 3",
   "language": "python",
   "name": "python3"
  },
  "language_info": {
   "codemirror_mode": {
    "name": "ipython",
    "version": 3
   },
   "file_extension": ".py",
   "mimetype": "text/x-python",
   "name": "python",
   "nbconvert_exporter": "python",
   "pygments_lexer": "ipython3",
   "version": "3.6.9"
  }
 },
 "nbformat": 4,
 "nbformat_minor": 4
}
