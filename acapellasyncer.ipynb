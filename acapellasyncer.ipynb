{
 "cells": [
  {
   "cell_type": "code",
   "execution_count": 1,
   "metadata": {},
   "outputs": [],
   "source": [
    "from moviepy.editor import *"
   ]
  },
  {
   "cell_type": "code",
   "execution_count": 2,
   "metadata": {},
   "outputs": [],
   "source": [
    "import numpy as np\n",
    "import matplotlib.pyplot as plt\n",
    "import os\n",
    "from moviepy.video.fx.all import crop\n",
    "import math"
   ]
  },
  {
   "cell_type": "code",
   "execution_count": 3,
   "metadata": {},
   "outputs": [],
   "source": [
    "def moving_average(a, n=3) :\n",
    "    ret = np.cumsum(a, dtype=float)\n",
    "    ret[n:] = ret[n:] - ret[:-n]\n",
    "    return ret[n - 1:] / n"
   ]
  },
  {
   "cell_type": "code",
   "execution_count": null,
   "metadata": {},
   "outputs": [
    {
     "name": "stdout",
     "output_type": "stream",
     "text": [
      "2020-04-08- Guerreiro Flauta 1 Georges.mp4\n"
     ]
    },
    {
     "name": "stderr",
     "output_type": "stream",
     "text": [
      "chunk:   0%|          | 2/4812 [00:00<04:57, 16.15it/s, now=None]"
     ]
    },
    {
     "name": "stdout",
     "output_type": "stream",
     "text": [
      "Moviepy - Building video norm_input/2020-04-08- Guerreiro Flauta 1 Georges.mp4.\n",
      "MoviePy - Writing audio in 2020-04-08- Guerreiro Flauta 1 GeorgesTEMP_MPY_wvf_snd.mp3\n"
     ]
    },
    {
     "name": "stderr",
     "output_type": "stream",
     "text": [
      "t:   0%|          | 2/6547 [00:00<05:57, 18.30it/s, now=None]        "
     ]
    },
    {
     "name": "stdout",
     "output_type": "stream",
     "text": [
      "MoviePy - Done.\n",
      "Moviepy - Writing video norm_input/2020-04-08- Guerreiro Flauta 1 Georges.mp4\n",
      "\n"
     ]
    },
    {
     "name": "stderr",
     "output_type": "stream",
     "text": [
      "                                                                \r"
     ]
    },
    {
     "name": "stdout",
     "output_type": "stream",
     "text": [
      "Moviepy - Done !\n",
      "Moviepy - video ready norm_input/2020-04-08- Guerreiro Flauta 1 Georges.mp4\n",
      "Guerreiro Flauta 1.mp4\n"
     ]
    },
    {
     "name": "stderr",
     "output_type": "stream",
     "text": [
      "chunk:   0%|          | 0/4866 [00:00<?, ?it/s, now=None]"
     ]
    },
    {
     "name": "stdout",
     "output_type": "stream",
     "text": [
      "Moviepy - Building video norm_input/Guerreiro Flauta 1.mp4.\n",
      "MoviePy - Writing audio in Guerreiro Flauta 1TEMP_MPY_wvf_snd.mp3\n"
     ]
    },
    {
     "name": "stderr",
     "output_type": "stream",
     "text": [
      "t:   0%|          | 3/6620 [00:00<06:02, 18.24it/s, now=None]        "
     ]
    },
    {
     "name": "stdout",
     "output_type": "stream",
     "text": [
      "MoviePy - Done.\n",
      "Moviepy - Writing video norm_input/Guerreiro Flauta 1.mp4\n",
      "\n"
     ]
    },
    {
     "name": "stderr",
     "output_type": "stream",
     "text": [
      "                                                                \r"
     ]
    },
    {
     "name": "stdout",
     "output_type": "stream",
     "text": [
      "Moviepy - Done !\n",
      "Moviepy - video ready norm_input/Guerreiro Flauta 1.mp4\n",
      "IMG_0630.mp4\n"
     ]
    },
    {
     "name": "stderr",
     "output_type": "stream",
     "text": [
      "chunk:   0%|          | 2/4825 [00:00<05:43, 14.03it/s, now=None]"
     ]
    },
    {
     "name": "stdout",
     "output_type": "stream",
     "text": [
      "Moviepy - Building video norm_input/IMG_0630.mp4.\n",
      "MoviePy - Writing audio in IMG_0630TEMP_MPY_wvf_snd.mp3\n"
     ]
    },
    {
     "name": "stderr",
     "output_type": "stream",
     "text": [
      "t:   0%|          | 3/5252 [00:00<03:19, 26.31it/s, now=None]        "
     ]
    },
    {
     "name": "stdout",
     "output_type": "stream",
     "text": [
      "MoviePy - Done.\n",
      "Moviepy - Writing video norm_input/IMG_0630.mp4\n",
      "\n"
     ]
    },
    {
     "name": "stderr",
     "output_type": "stream",
     "text": [
      "                                                                \r"
     ]
    },
    {
     "name": "stdout",
     "output_type": "stream",
     "text": [
      "Moviepy - Done !\n",
      "Moviepy - video ready norm_input/IMG_0630.mp4\n",
      "20200411_152845_001.mp4\n"
     ]
    },
    {
     "name": "stderr",
     "output_type": "stream",
     "text": [
      "chunk:   0%|          | 0/4762 [00:00<?, ?it/s, now=None]"
     ]
    },
    {
     "name": "stdout",
     "output_type": "stream",
     "text": [
      "Moviepy - Building video norm_input/20200411_152845_001.mp4.\n",
      "MoviePy - Writing audio in 20200411_152845_001TEMP_MPY_wvf_snd.mp3\n"
     ]
    },
    {
     "name": "stderr",
     "output_type": "stream",
     "text": [
      "t:   0%|          | 3/6473 [00:00<05:49, 18.51it/s, now=None]        "
     ]
    },
    {
     "name": "stdout",
     "output_type": "stream",
     "text": [
      "MoviePy - Done.\n",
      "Moviepy - Writing video norm_input/20200411_152845_001.mp4\n",
      "\n"
     ]
    },
    {
     "name": "stderr",
     "output_type": "stream",
     "text": [
      "t:  92%|█████████▏| 5967/6473 [06:26<00:32, 15.40it/s, now=None]"
     ]
    }
   ],
   "source": [
    "input_folder_path = \"input/\"\n",
    "norm_folder_path = \"norm_input/\"\n",
    "FPS = 44100\n",
    "\n",
    "for filename in os.listdir(input_folder_path):\n",
    "    print(\".\".join(filename.split(\".\")[:-1]) + \".mp4\")\n",
    "\n",
    "    clip = VideoFileClip(input_folder_path + filename)\n",
    "\n",
    "    clip = clip.fx(afx.audio_normalize)\n",
    "\n",
    "   \n",
    "\n",
    "    soundarray = clip.audio.to_soundarray(fps=FPS)\n",
    "\n",
    "    soundarray_normalized = np.mean(np.abs(soundarray), axis=1)\n",
    "\n",
    "    soundarray_smoothed = moving_average(soundarray_normalized)\n",
    "\n",
    "    peak_found = False\n",
    "    for frame in range(len(soundarray_smoothed)):\n",
    "        if soundarray_smoothed[frame] > 0.15:\n",
    "            break\n",
    "\n",
    "\n",
    "    frame_clap = np.argmax(soundarray_smoothed[frame-500:frame+FPS]) + frame - 500\n",
    "\n",
    "    del(soundarray)\n",
    "    del(soundarray_normalized)\n",
    "    del(soundarray_smoothed)\n",
    "\n",
    "    t_clap = frame_clap / FPS\n",
    "\n",
    "    clip = clip.subclip(cvsecs(t_clap+1), cvsecs(clip.duration))\n",
    "\n",
    "    clip = clip.fx(afx.audio_normalize)\n",
    "\n",
    "    old_width = clip.size[0]\n",
    "    old_height = clip.size[1]\n",
    "    clip_ratio = old_width / old_height\n",
    "    \n",
    "    if clip_ratio < 1.65:\n",
    "        new_height = math.floor(clip.size[0] / 1.777)\n",
    "        height_to_be_cropped = math.floor((old_height - new_height) / 2)\n",
    "        clip = crop(clip,   x1=0,\n",
    "                            y1=height_to_be_cropped,\n",
    "                            x2=old_width, \n",
    "                            y2=height_to_be_cropped+new_height)\n",
    "    \n",
    "    clip = clip.resize( (480,270) )\n",
    "    \n",
    "    clip.write_videofile(norm_folder_path + \".\".join(filename.split(\".\")[:-1]) + \".mp4\")\n",
    "    \n",
    "    del(clip)\n",
    "    \n",
    "    #break"
   ]
  },
  {
   "cell_type": "code",
   "execution_count": 8,
   "metadata": {},
   "outputs": [
    {
     "data": {
      "text/plain": [
       "(0, 480)"
      ]
     },
     "execution_count": 8,
     "metadata": {},
     "output_type": "execute_result"
    }
   ],
   "source": [
    "clip.size"
   ]
  },
  {
   "cell_type": "code",
   "execution_count": null,
   "metadata": {},
   "outputs": [],
   "source": [
    "input_folder_path = \"norm_input/\"\n",
    "norm_folder_path = \"output/\"\n",
    "FPS = 44100\n",
    "from moviepy.editor import VideoFileClip, clips_array, vfx\n",
    "\n",
    "clips = []\n",
    "for filename in os.listdir(input_folder_path):\n",
    "    clips.append()VideoFileClip(input_folder_path).margin(3)\n",
    "\n",
    "n = len(clips)\n",
    "clips = np.array(clips)\n",
    "\n",
    "final_clip = clips_array([[clip1, clip2],\n",
    "                          [clip3, clip4]])\n",
    "final_clip.resize(width=480).write_videofile(\"my_stack.mp4\")\n"
   ]
  },
  {
   "cell_type": "markdown",
   "metadata": {},
   "source": [
    "clip.ipython_display(width=400, maxduration=10000)"
   ]
  },
  {
   "cell_type": "markdown",
   "metadata": {},
   "source": [
    "plt.plot(soundarray[:1200000])\n",
    "plt.plot(soundarray_smoothed[:1200000])\n",
    "#plt.plot(bla[100000:114000])\n",
    "plt.axvline(frame_clap, c=\"red\", lw=1, ls=\"--\")"
   ]
  },
  {
   "cell_type": "markdown",
   "metadata": {},
   "source": [
    "plt.plot(soundarray)\n",
    "plt.plot(soundarray_smoothed)\n",
    "plt.axvline(frame_clap, c=\"red\", lw=1, ls=\"--\")"
   ]
  },
  {
   "cell_type": "markdown",
   "metadata": {},
   "source": [
    "plt.plot(soundarray[frame-1500:frame+1500])\n",
    "#plt.plot(blo[t-1500:t+1500])\n",
    "plt.axvline(1500, c=\"red\", lw=1, ls=\"--\")"
   ]
  },
  {
   "cell_type": "markdown",
   "metadata": {},
   "source": [
    "del(soundarray)\n",
    "del(soundarray_normalized)\n",
    "del(soundarray_smoothed)"
   ]
  },
  {
   "cell_type": "markdown",
   "metadata": {},
   "source": [
    "#clip = clip.resize( (10,90) )\n",
    "clip = clip.crop(x_center=300, width=400, y1=100, y2=600)\n",
    "clip = clip.fx(afx.audio_normalize)"
   ]
  },
  {
   "cell_type": "markdown",
   "metadata": {},
   "source": [
    "clip.write_videofile(\".\".join(filename.split(\".\")[:-1]) + \".mp4\")"
   ]
  },
  {
   "cell_type": "markdown",
   "metadata": {},
   "source": [
    "from moviepy.video.fx.all import crop"
   ]
  },
  {
   "cell_type": "markdown",
   "metadata": {},
   "source": [
    "originalClip = (VideoFileClip(filename)\n",
    "    .subclip((1,00.00),(1,03.00)))\n",
    "\n",
    "(w, h) = originalClip.size\n",
    "\n",
    "cropClip = fx.all.crop(clip2, width=h, height=h, x_center=w/2, y_center=h/2)"
   ]
  }
 ],
 "metadata": {
  "kernelspec": {
   "display_name": "Python 3",
   "language": "python",
   "name": "python3"
  },
  "language_info": {
   "codemirror_mode": {
    "name": "ipython",
    "version": 3
   },
   "file_extension": ".py",
   "mimetype": "text/x-python",
   "name": "python",
   "nbconvert_exporter": "python",
   "pygments_lexer": "ipython3",
   "version": "3.6.9"
  }
 },
 "nbformat": 4,
 "nbformat_minor": 4
}
